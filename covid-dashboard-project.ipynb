{
 "cells": [
  {
   "cell_type": "markdown",
   "id": "9913608d",
   "metadata": {
    "papermill": {
     "duration": 0.002343,
     "end_time": "2023-10-20T20:40:52.445838",
     "exception": false,
     "start_time": "2023-10-20T20:40:52.443495",
     "status": "completed"
    },
    "tags": []
   },
   "source": [
    "# 1. Projeto Dashboard Covid\n",
    "\n",
    "O projeto utiliza dados de casos e mortes da John Hopkins University armazenados no GitHub pelo repositório [CSSE (JHU)](https://github.com/CSSEGISandData/COVID-19/tree/master/csse_covid_19_data/csse_covid_19_daily_reports). Como este repositório não contem dados de vacinação, é usado o projeto *Our World in Data* (OWID) da Universidade de Oxford pelo link [OWID](https://ourworldindata.org/). Os dados passaram por uma limpeza para reunir apenas o período de 2021 e somente os estados do Brasil.\n",
    "\n",
    "A meta do projeto foi desenvolver um *dashboard* implementado no Google Looker Studio. Nele, foram exibidos alguns **indicadores-chave de desempenho** (KPI, *key performance indicators*) como número diário de casos e mortes, médias móveis de 7 dias e tendências, organizados por um seletor de data. \n",
    "\n",
    "Além disso, foram adicionados gráficos incluindo séries temporais dos casos e mortes no ano de 2021 pelo Brasil todo. Também foi adicionado um gráfico contendo a evolução da população neste mesmo período. Por fim, o *dashboard* contém um mapa do Brasil com valores de casos diários seguindo um mapa de cor, divididos por estado."
   ]
  },
  {
   "cell_type": "markdown",
   "id": "1d0e87c5",
   "metadata": {
    "papermill": {
     "duration": 0.001648,
     "end_time": "2023-10-20T20:40:52.449514",
     "exception": false,
     "start_time": "2023-10-20T20:40:52.447866",
     "status": "completed"
    },
    "tags": []
   },
   "source": [
    "# 2. ETL (extração, transformação e carregamento)\n",
    "\n"
   ]
  },
  {
   "cell_type": "markdown",
   "id": "79c37e8e",
   "metadata": {
    "papermill": {
     "duration": 0.003213,
     "end_time": "2023-10-20T20:40:52.454538",
     "exception": false,
     "start_time": "2023-10-20T20:40:52.451325",
     "status": "completed"
    },
    "tags": []
   },
   "source": [
    "# 3. Dashboard\n",
    "\n",
    "Utilizando o Google Looker Studio, são carregadas as fontes de dados dos arquivos covid-cases.csv e covid-vaccines.csv. Em ambas são conferidos os campos de tipos de dados, usando funções como `PARSE_DATA('%Y-%m', month)` para criar um novo campo `month_parsed` que segue o formato `date` adequadamente.\n",
    "\n",
    "<img src='https://github.com/mateus-miguel/projeto-dashboard-covid/blob/main/img/dashboard_projeto_covid_cropped.png?raw=true'/>"
   ]
  }
 ],
 "metadata": {
  "kernelspec": {
   "display_name": "Python 3",
   "language": "python",
   "name": "python3"
  },
  "language_info": {
   "codemirror_mode": {
    "name": "ipython",
    "version": 3
   },
   "file_extension": ".py",
   "mimetype": "text/x-python",
   "name": "python",
   "nbconvert_exporter": "python",
   "pygments_lexer": "ipython3",
   "version": "3.10.12"
  },
  "papermill": {
   "default_parameters": {},
   "duration": 4.213156,
   "end_time": "2023-10-20T20:40:52.876681",
   "environment_variables": {},
   "exception": null,
   "input_path": "__notebook__.ipynb",
   "output_path": "__notebook__.ipynb",
   "parameters": {},
   "start_time": "2023-10-20T20:40:48.663525",
   "version": "2.4.0"
  }
 },
 "nbformat": 4,
 "nbformat_minor": 5
}
