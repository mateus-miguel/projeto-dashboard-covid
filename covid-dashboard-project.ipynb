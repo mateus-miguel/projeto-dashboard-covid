{
 "cells": [
  {
   "cell_type": "markdown",
   "id": "50415887",
   "metadata": {
    "papermill": {
     "duration": 0.01756,
     "end_time": "2023-10-21T19:19:13.564423",
     "exception": false,
     "start_time": "2023-10-21T19:19:13.546863",
     "status": "completed"
    },
    "tags": []
   },
   "source": [
    "# 1. Projeto Dashboard Covid\n",
    "\n",
    "O projeto utiliza dados de casos e mortes da John Hopkins University armazenados no GitHub pelo repositório [CSSE (JHU)](https://github.com/CSSEGISandData/COVID-19/tree/master/csse_covid_19_data/csse_covid_19_daily_reports). Como este repositório não contem dados de vacinação, é usado o projeto *Our World in Data* (OWID) da Universidade de Oxford pelo link [OWID](https://ourworldindata.org/). Os dados passaram por uma limpeza para reunir apenas o período de 2021 e somente os estados do Brasil.\n",
    "\n",
    "A meta do projeto foi desenvolver um *dashboard* implementado no **Google Looker Studio**. Nele, foram exibidos alguns **indicadores-chave de desempenho** (KPI, *key performance indicators*) como número diário de casos e mortes, médias móveis de 7 dias e tendências, organizados por um seletor de data. \n",
    "\n",
    "Além disso, foram adicionados gráficos incluindo **séries temporais** dos casos e mortes no ano de 2021 pelo Brasil todo. Também foi adicionado um gráfico contendo a evolução da população neste mesmo período. Por fim, o *dashboard* contém um mapa do Brasil com valores de casos diários seguindo um mapa de cor, divididos por estado."
   ]
  },
  {
   "cell_type": "markdown",
   "id": "75d5bc4d",
   "metadata": {
    "papermill": {
     "duration": 0.016314,
     "end_time": "2023-10-21T19:19:13.597781",
     "exception": false,
     "start_time": "2023-10-21T19:19:13.581467",
     "status": "completed"
    },
    "tags": []
   },
   "source": [
    "# 2. ETL (extração, transformação e carregamento)\n",
    "\n",
    "## 2.1 - Casos e mortes"
   ]
  },
  {
   "cell_type": "code",
   "execution_count": 1,
   "id": "eb45d045",
   "metadata": {
    "execution": {
     "iopub.execute_input": "2023-10-21T19:19:13.633443Z",
     "iopub.status.busy": "2023-10-21T19:19:13.633018Z",
     "iopub.status.idle": "2023-10-21T19:19:15.717995Z",
     "shell.execute_reply": "2023-10-21T19:19:15.716762Z"
    },
    "papermill": {
     "duration": 2.106791,
     "end_time": "2023-10-21T19:19:15.721487",
     "exception": false,
     "start_time": "2023-10-21T19:19:13.614696",
     "status": "completed"
    },
    "tags": []
   },
   "outputs": [],
   "source": [
    "import math\n",
    "from typing import Iterator\n",
    "from datetime import datetime, timedelta\n",
    "\n",
    "import numpy as np\n",
    "import pandas as pd\n",
    "import seaborn as sns"
   ]
  },
  {
   "cell_type": "markdown",
   "id": "1d273498",
   "metadata": {
    "papermill": {
     "duration": 0.017025,
     "end_time": "2023-10-21T19:19:15.755905",
     "exception": false,
     "start_time": "2023-10-21T19:19:15.738880",
     "status": "completed"
    },
    "tags": []
   },
   "source": [
    "Começamos importando as bibliotecas de interesse. Vamos precisar extrair os dados particionados por dia da JHU contendo as informações de casos e mortes. Definimos uma função geradora para devolver os objetos *datetime* de dias do ano de 2021."
   ]
  },
  {
   "cell_type": "code",
   "execution_count": 2,
   "id": "7996470b",
   "metadata": {
    "execution": {
     "iopub.execute_input": "2023-10-21T19:19:15.791670Z",
     "iopub.status.busy": "2023-10-21T19:19:15.791081Z",
     "iopub.status.idle": "2023-10-21T19:19:15.797397Z",
     "shell.execute_reply": "2023-10-21T19:19:15.796298Z"
    },
    "papermill": {
     "duration": 0.02666,
     "end_time": "2023-10-21T19:19:15.799618",
     "exception": false,
     "start_time": "2023-10-21T19:19:15.772958",
     "status": "completed"
    },
    "tags": []
   },
   "outputs": [],
   "source": [
    "def date_range(start_date: datetime, end_date: datetime) -> Iterator[datetime]:\n",
    "    date_range_days: int = (end_date - start_date).days\n",
    "    for lag in range(date_range_days):\n",
    "        yield start_date + timedelta(lag)"
   ]
  },
  {
   "cell_type": "code",
   "execution_count": 3,
   "id": "a62dc5b2",
   "metadata": {
    "execution": {
     "iopub.execute_input": "2023-10-21T19:19:15.834927Z",
     "iopub.status.busy": "2023-10-21T19:19:15.834506Z",
     "iopub.status.idle": "2023-10-21T19:19:15.839635Z",
     "shell.execute_reply": "2023-10-21T19:19:15.838560Z"
    },
    "papermill": {
     "duration": 0.025187,
     "end_time": "2023-10-21T19:19:15.841869",
     "exception": false,
     "start_time": "2023-10-21T19:19:15.816682",
     "status": "completed"
    },
    "tags": []
   },
   "outputs": [],
   "source": [
    "start_date = datetime(2021, 1, 1)\n",
    "end_date = datetime(2021, 12, 31)"
   ]
  },
  {
   "cell_type": "markdown",
   "id": "8fe0e0b2",
   "metadata": {
    "papermill": {
     "duration": 0.016116,
     "end_time": "2023-10-21T19:19:15.874710",
     "exception": false,
     "start_time": "2023-10-21T19:19:15.858594",
     "status": "completed"
    },
    "tags": []
   },
   "source": [
    "Então fazemos um laço de repetição lendo cada arquivo por dia, contendo informações de vários países e regiões no mundo. Então, a cada execução do laço concatenamos estes DataFrames juntos, até capturar as informações do ano de 2021 todo. A URL dos dados contém datas no formato '%m-%d-%Y' enquanto objetos *datetime* seguem forma '%Y-%m-%d'. \n",
    "\n",
    "São removidas colunas como FIPS, Admin2 que se referem mais a dados dos EUA, entre outras como Lat, Long_, Recovered, Active e outras que não são de interesse. Filtramos também para a região 'Brazil' usando `DataFrame.query()`, assim só teremos dados dos estados e do Brasil ao todo."
   ]
  },
  {
   "cell_type": "markdown",
   "id": "9fd1d37a",
   "metadata": {
    "papermill": {
     "duration": 0.016103,
     "end_time": "2023-10-21T19:19:15.907203",
     "exception": false,
     "start_time": "2023-10-21T19:19:15.891100",
     "status": "completed"
    },
    "tags": []
   },
   "source": [
    "```\n",
    "cases = None\n",
    "cases_is_empty = True\n",
    "\n",
    "for date in date_range(start_date=start_date, end_date=end_date):\n",
    "    date_str = date.strftime('%m-%d-%Y') # formato do GitHub do JHU\n",
    "    data_source_url = f'https://raw.githubusercontent.com/CSSEGISandData/COVID-19/master/csse_covid_19_data/csse_covid_19_daily_reports/{date_str}.csv'\n",
    "\n",
    "    caso = pd.read_csv(data_source_url, sep=',')\n",
    "    caso = caso.drop(['FIPS', 'Admin2', 'Last_Update', 'Lat', 'Long_', 'Recovered', 'Active', 'Combined_Key', 'Case_Fatality_Ratio'], axis=1)\n",
    "    caso = caso.query('Country_Region == \"Brazil\"').reset_index(drop=True)\n",
    "    caso['Date'] = pd.to_datetime(date.strftime('%Y-%m-%d'))\n",
    "\n",
    "    if cases_is_empty:\n",
    "        cases = caso\n",
    "        cases_is_empty = False\n",
    "    else:\n",
    "        cases = pd.concat([cases, caso], ignore_index=True)\n",
    "        \n",
    "print('Finalizado!')\n",
    "```"
   ]
  },
  {
   "cell_type": "code",
   "execution_count": 4,
   "id": "5fe2693c",
   "metadata": {
    "execution": {
     "iopub.execute_input": "2023-10-21T19:19:15.941508Z",
     "iopub.status.busy": "2023-10-21T19:19:15.941119Z",
     "iopub.status.idle": "2023-10-21T19:19:16.002735Z",
     "shell.execute_reply": "2023-10-21T19:19:16.001826Z"
    },
    "papermill": {
     "duration": 0.082205,
     "end_time": "2023-10-21T19:19:16.005885",
     "exception": false,
     "start_time": "2023-10-21T19:19:15.923680",
     "status": "completed"
    },
    "tags": []
   },
   "outputs": [],
   "source": [
    "cases = pd.read_csv('../input/owid-dataset/cases-raw.csv', sep=',', parse_dates=[5])"
   ]
  },
  {
   "cell_type": "markdown",
   "id": "37b2620d",
   "metadata": {
    "papermill": {
     "duration": 0.016955,
     "end_time": "2023-10-21T19:19:16.039650",
     "exception": false,
     "start_time": "2023-10-21T19:19:16.022695",
     "status": "completed"
    },
    "tags": []
   },
   "source": [
    "Podemos conferir os dados para algumas regiões, como São Paulo."
   ]
  },
  {
   "cell_type": "code",
   "execution_count": 5,
   "id": "1ead3a36",
   "metadata": {
    "execution": {
     "iopub.execute_input": "2023-10-21T19:19:16.074407Z",
     "iopub.status.busy": "2023-10-21T19:19:16.074026Z",
     "iopub.status.idle": "2023-10-21T19:19:16.102397Z",
     "shell.execute_reply": "2023-10-21T19:19:16.101590Z"
    },
    "papermill": {
     "duration": 0.048542,
     "end_time": "2023-10-21T19:19:16.104853",
     "exception": false,
     "start_time": "2023-10-21T19:19:16.056311",
     "status": "completed"
    },
    "tags": []
   },
   "outputs": [
    {
     "data": {
      "text/html": [
       "<div>\n",
       "<style scoped>\n",
       "    .dataframe tbody tr th:only-of-type {\n",
       "        vertical-align: middle;\n",
       "    }\n",
       "\n",
       "    .dataframe tbody tr th {\n",
       "        vertical-align: top;\n",
       "    }\n",
       "\n",
       "    .dataframe thead th {\n",
       "        text-align: right;\n",
       "    }\n",
       "</style>\n",
       "<table border=\"1\" class=\"dataframe\">\n",
       "  <thead>\n",
       "    <tr style=\"text-align: right;\">\n",
       "      <th></th>\n",
       "      <th>Province_State</th>\n",
       "      <th>Country_Region</th>\n",
       "      <th>Confirmed</th>\n",
       "      <th>Deaths</th>\n",
       "      <th>Incident_Rate</th>\n",
       "      <th>Date</th>\n",
       "    </tr>\n",
       "  </thead>\n",
       "  <tbody>\n",
       "    <tr>\n",
       "      <th>24</th>\n",
       "      <td>Sao Paulo</td>\n",
       "      <td>Brazil</td>\n",
       "      <td>1466191</td>\n",
       "      <td>46775</td>\n",
       "      <td>3192.990778</td>\n",
       "      <td>2021-01-01</td>\n",
       "    </tr>\n",
       "    <tr>\n",
       "      <th>51</th>\n",
       "      <td>Sao Paulo</td>\n",
       "      <td>Brazil</td>\n",
       "      <td>1467953</td>\n",
       "      <td>46808</td>\n",
       "      <td>3196.827966</td>\n",
       "      <td>2021-01-02</td>\n",
       "    </tr>\n",
       "    <tr>\n",
       "      <th>78</th>\n",
       "      <td>Sao Paulo</td>\n",
       "      <td>Brazil</td>\n",
       "      <td>1471422</td>\n",
       "      <td>46845</td>\n",
       "      <td>3204.382565</td>\n",
       "      <td>2021-01-03</td>\n",
       "    </tr>\n",
       "    <tr>\n",
       "      <th>105</th>\n",
       "      <td>Sao Paulo</td>\n",
       "      <td>Brazil</td>\n",
       "      <td>1473670</td>\n",
       "      <td>46888</td>\n",
       "      <td>3209.278136</td>\n",
       "      <td>2021-01-04</td>\n",
       "    </tr>\n",
       "    <tr>\n",
       "      <th>132</th>\n",
       "      <td>Sao Paulo</td>\n",
       "      <td>Brazil</td>\n",
       "      <td>1486551</td>\n",
       "      <td>47222</td>\n",
       "      <td>3237.329676</td>\n",
       "      <td>2021-01-05</td>\n",
       "    </tr>\n",
       "  </tbody>\n",
       "</table>\n",
       "</div>"
      ],
      "text/plain": [
       "    Province_State Country_Region  Confirmed  Deaths  Incident_Rate       Date\n",
       "24       Sao Paulo         Brazil    1466191   46775    3192.990778 2021-01-01\n",
       "51       Sao Paulo         Brazil    1467953   46808    3196.827966 2021-01-02\n",
       "78       Sao Paulo         Brazil    1471422   46845    3204.382565 2021-01-03\n",
       "105      Sao Paulo         Brazil    1473670   46888    3209.278136 2021-01-04\n",
       "132      Sao Paulo         Brazil    1486551   47222    3237.329676 2021-01-05"
      ]
     },
     "execution_count": 5,
     "metadata": {},
     "output_type": "execute_result"
    }
   ],
   "source": [
    "cases.query('Province_State == \"Sao Paulo\"').head()"
   ]
  },
  {
   "cell_type": "markdown",
   "id": "1290d275",
   "metadata": {
    "papermill": {
     "duration": 0.073007,
     "end_time": "2023-10-21T19:19:16.194500",
     "exception": false,
     "start_time": "2023-10-21T19:19:16.121493",
     "status": "completed"
    },
    "tags": []
   },
   "source": [
    "E ver informações de formato, tipos de dados e colunas do DataFrame."
   ]
  },
  {
   "cell_type": "code",
   "execution_count": 6,
   "id": "de04e34f",
   "metadata": {
    "execution": {
     "iopub.execute_input": "2023-10-21T19:19:16.230133Z",
     "iopub.status.busy": "2023-10-21T19:19:16.229147Z",
     "iopub.status.idle": "2023-10-21T19:19:16.235410Z",
     "shell.execute_reply": "2023-10-21T19:19:16.234661Z"
    },
    "papermill": {
     "duration": 0.026265,
     "end_time": "2023-10-21T19:19:16.237443",
     "exception": false,
     "start_time": "2023-10-21T19:19:16.211178",
     "status": "completed"
    },
    "tags": []
   },
   "outputs": [
    {
     "data": {
      "text/plain": [
       "(9828, 6)"
      ]
     },
     "execution_count": 6,
     "metadata": {},
     "output_type": "execute_result"
    }
   ],
   "source": [
    "cases.shape"
   ]
  },
  {
   "cell_type": "code",
   "execution_count": 7,
   "id": "1de49322",
   "metadata": {
    "execution": {
     "iopub.execute_input": "2023-10-21T19:19:16.272698Z",
     "iopub.status.busy": "2023-10-21T19:19:16.272276Z",
     "iopub.status.idle": "2023-10-21T19:19:16.278831Z",
     "shell.execute_reply": "2023-10-21T19:19:16.278089Z"
    },
    "papermill": {
     "duration": 0.026666,
     "end_time": "2023-10-21T19:19:16.280808",
     "exception": false,
     "start_time": "2023-10-21T19:19:16.254142",
     "status": "completed"
    },
    "tags": []
   },
   "outputs": [
    {
     "data": {
      "text/plain": [
       "Index(['Province_State', 'Country_Region', 'Confirmed', 'Deaths',\n",
       "       'Incident_Rate', 'Date'],\n",
       "      dtype='object')"
      ]
     },
     "execution_count": 7,
     "metadata": {},
     "output_type": "execute_result"
    }
   ],
   "source": [
    "cases.columns"
   ]
  },
  {
   "cell_type": "code",
   "execution_count": 8,
   "id": "d5e95d52",
   "metadata": {
    "execution": {
     "iopub.execute_input": "2023-10-21T19:19:16.318178Z",
     "iopub.status.busy": "2023-10-21T19:19:16.317065Z",
     "iopub.status.idle": "2023-10-21T19:19:16.341405Z",
     "shell.execute_reply": "2023-10-21T19:19:16.340493Z"
    },
    "papermill": {
     "duration": 0.04579,
     "end_time": "2023-10-21T19:19:16.344386",
     "exception": false,
     "start_time": "2023-10-21T19:19:16.298596",
     "status": "completed"
    },
    "tags": []
   },
   "outputs": [
    {
     "name": "stdout",
     "output_type": "stream",
     "text": [
      "<class 'pandas.core.frame.DataFrame'>\n",
      "RangeIndex: 9828 entries, 0 to 9827\n",
      "Data columns (total 6 columns):\n",
      " #   Column          Non-Null Count  Dtype         \n",
      "---  ------          --------------  -----         \n",
      " 0   Province_State  9828 non-null   object        \n",
      " 1   Country_Region  9828 non-null   object        \n",
      " 2   Confirmed       9828 non-null   int64         \n",
      " 3   Deaths          9828 non-null   int64         \n",
      " 4   Incident_Rate   9828 non-null   float64       \n",
      " 5   Date            9828 non-null   datetime64[ns]\n",
      "dtypes: datetime64[ns](1), float64(1), int64(2), object(2)\n",
      "memory usage: 460.8+ KB\n"
     ]
    }
   ],
   "source": [
    "cases.info()"
   ]
  },
  {
   "cell_type": "markdown",
   "id": "8fb5eb5b",
   "metadata": {
    "papermill": {
     "duration": 0.016856,
     "end_time": "2023-10-21T19:19:16.378654",
     "exception": false,
     "start_time": "2023-10-21T19:19:16.361798",
     "status": "completed"
    },
    "tags": []
   },
   "source": [
    "Vamos então renomear algumas colunas de forma a simplificar, e deixar tudo minúsculo por padrão."
   ]
  },
  {
   "cell_type": "code",
   "execution_count": 9,
   "id": "a1a606da",
   "metadata": {
    "execution": {
     "iopub.execute_input": "2023-10-21T19:19:16.415395Z",
     "iopub.status.busy": "2023-10-21T19:19:16.414296Z",
     "iopub.status.idle": "2023-10-21T19:19:16.424869Z",
     "shell.execute_reply": "2023-10-21T19:19:16.423708Z"
    },
    "papermill": {
     "duration": 0.031412,
     "end_time": "2023-10-21T19:19:16.427206",
     "exception": false,
     "start_time": "2023-10-21T19:19:16.395794",
     "status": "completed"
    },
    "tags": []
   },
   "outputs": [],
   "source": [
    "cases = cases.rename(\n",
    "    columns = {\n",
    "        'Province_State': 'state',\n",
    "        'Country_Region': 'country'\n",
    "    }\n",
    ")\n",
    "\n",
    "for col in cases.columns:\n",
    "    cases = cases.rename(columns = {\n",
    "        col: col.lower()\n",
    "    })"
   ]
  },
  {
   "cell_type": "code",
   "execution_count": 10,
   "id": "15d92a65",
   "metadata": {
    "execution": {
     "iopub.execute_input": "2023-10-21T19:19:16.463104Z",
     "iopub.status.busy": "2023-10-21T19:19:16.462713Z",
     "iopub.status.idle": "2023-10-21T19:19:16.470023Z",
     "shell.execute_reply": "2023-10-21T19:19:16.468851Z"
    },
    "papermill": {
     "duration": 0.02782,
     "end_time": "2023-10-21T19:19:16.472149",
     "exception": false,
     "start_time": "2023-10-21T19:19:16.444329",
     "status": "completed"
    },
    "tags": []
   },
   "outputs": [
    {
     "data": {
      "text/plain": [
       "Index(['state', 'country', 'confirmed', 'deaths', 'incident_rate', 'date'], dtype='object')"
      ]
     },
     "execution_count": 10,
     "metadata": {},
     "output_type": "execute_result"
    }
   ],
   "source": [
    "cases.columns"
   ]
  },
  {
   "cell_type": "markdown",
   "id": "541ecb67",
   "metadata": {
    "papermill": {
     "duration": 0.017741,
     "end_time": "2023-10-21T19:19:16.507525",
     "exception": false,
     "start_time": "2023-10-21T19:19:16.489784",
     "status": "completed"
    },
    "tags": []
   },
   "source": [
    "Vamos também deixar os valores dos estados padronizados com acentos para facilitar a integração com o Google Looker Studio. Desta forma, a visualização por mapa vai ficar consistente."
   ]
  },
  {
   "cell_type": "code",
   "execution_count": 11,
   "id": "a95accd6",
   "metadata": {
    "execution": {
     "iopub.execute_input": "2023-10-21T19:19:16.544596Z",
     "iopub.status.busy": "2023-10-21T19:19:16.544172Z",
     "iopub.status.idle": "2023-10-21T19:19:16.560383Z",
     "shell.execute_reply": "2023-10-21T19:19:16.559604Z"
    },
    "papermill": {
     "duration": 0.037037,
     "end_time": "2023-10-21T19:19:16.562354",
     "exception": false,
     "start_time": "2023-10-21T19:19:16.525317",
     "status": "completed"
    },
    "tags": []
   },
   "outputs": [
    {
     "data": {
      "text/plain": [
       "array(['Acre', 'Alagoas', 'Amapá', 'Amazonas', 'Bahia', 'Ceará',\n",
       "       'Distrito Federal', 'Espírito Santo', 'Goiás', 'Maranhao',\n",
       "       'Mato Grosso', 'Mato Grosso do Sul', 'Minas Gerais', 'Pará',\n",
       "       'Paraíba', 'Paraná', 'Pernambuco', 'Piauí', 'Rio Grande do Norte',\n",
       "       'Rio Grande do Sul', 'Rio de Janeiro', 'Rondônia', 'Roraima',\n",
       "       'Santa Catarina', 'São Paulo', 'Sergipe', 'Tocantins'],\n",
       "      dtype=object)"
      ]
     },
     "execution_count": 11,
     "metadata": {},
     "output_type": "execute_result"
    }
   ],
   "source": [
    "states_map = {\n",
    "    'Amapa': 'Amapá',\n",
    "    'Ceara': 'Ceará',\n",
    "    'Espirito Santo': 'Espírito Santo',\n",
    "    'Goias': 'Goiás',\n",
    "    'Para': 'Pará',\n",
    "    'Paraiba': 'Paraíba',\n",
    "    'Parana': 'Paraná',\n",
    "    'Piaui': 'Piauí',\n",
    "    'Rondonia': 'Rondônia',\n",
    "    'Sao Paulo': 'São Paulo'\n",
    "}\n",
    "\n",
    "cases['state'] = cases['state'].apply(lambda x: states_map[x] if x in states_map.keys() else x)\n",
    "\n",
    "cases['state'].unique()"
   ]
  },
  {
   "cell_type": "markdown",
   "id": "6178860e",
   "metadata": {
    "papermill": {
     "duration": 0.017177,
     "end_time": "2023-10-21T19:19:16.597168",
     "exception": false,
     "start_time": "2023-10-21T19:19:16.579991",
     "status": "completed"
    },
    "tags": []
   },
   "source": [
    "Vamos adicionar as chaves temporais de mês e ano, e também a população estimada usando a coluna `incident_rate` que dá o número de casos por 100 mil habitantes."
   ]
  },
  {
   "cell_type": "code",
   "execution_count": 12,
   "id": "5b5ea818",
   "metadata": {
    "execution": {
     "iopub.execute_input": "2023-10-21T19:19:16.633965Z",
     "iopub.status.busy": "2023-10-21T19:19:16.633168Z",
     "iopub.status.idle": "2023-10-21T19:19:16.788880Z",
     "shell.execute_reply": "2023-10-21T19:19:16.787898Z"
    },
    "papermill": {
     "duration": 0.177135,
     "end_time": "2023-10-21T19:19:16.791641",
     "exception": false,
     "start_time": "2023-10-21T19:19:16.614506",
     "status": "completed"
    },
    "tags": []
   },
   "outputs": [],
   "source": [
    "cases['month'] = cases['date'].apply(lambda x: x.strftime('%Y-%m'))\n",
    "cases['year'] = cases['date'].apply(lambda x: x.strftime('%Y'))"
   ]
  },
  {
   "cell_type": "code",
   "execution_count": 13,
   "id": "ed455b1c",
   "metadata": {
    "execution": {
     "iopub.execute_input": "2023-10-21T19:19:16.828770Z",
     "iopub.status.busy": "2023-10-21T19:19:16.828372Z",
     "iopub.status.idle": "2023-10-21T19:19:16.840136Z",
     "shell.execute_reply": "2023-10-21T19:19:16.839082Z"
    },
    "papermill": {
     "duration": 0.036146,
     "end_time": "2023-10-21T19:19:16.845389",
     "exception": false,
     "start_time": "2023-10-21T19:19:16.809243",
     "status": "completed"
    },
    "tags": []
   },
   "outputs": [
    {
     "data": {
      "text/plain": [
       "Index(['state', 'country', 'confirmed', 'deaths', 'date', 'month', 'year',\n",
       "       'population'],\n",
       "      dtype='object')"
      ]
     },
     "execution_count": 13,
     "metadata": {},
     "output_type": "execute_result"
    }
   ],
   "source": [
    "cases['population'] = (100000 * cases['confirmed'] / cases['incident_rate'])\n",
    "cases = cases.drop('incident_rate', axis=1)\n",
    "cases.columns"
   ]
  },
  {
   "cell_type": "markdown",
   "id": "e9500c3b",
   "metadata": {
    "papermill": {
     "duration": 0.017622,
     "end_time": "2023-10-21T19:19:16.880737",
     "exception": false,
     "start_time": "2023-10-21T19:19:16.863115",
     "status": "completed"
    },
    "tags": []
   },
   "source": [
    "Agora, vamos enriquecer os dados com alguns cálculos. No caso, vamos adicionar colunas sobre casos diários, média móvel de 7 dias, estabilidade de 14 dias e tendência. O mesmo para os dados de mortes."
   ]
  },
  {
   "cell_type": "code",
   "execution_count": 14,
   "id": "f54d7639",
   "metadata": {
    "execution": {
     "iopub.execute_input": "2023-10-21T19:19:16.918078Z",
     "iopub.status.busy": "2023-10-21T19:19:16.917657Z",
     "iopub.status.idle": "2023-10-21T19:19:17.277769Z",
     "shell.execute_reply": "2023-10-21T19:19:17.276666Z"
    },
    "papermill": {
     "duration": 0.382274,
     "end_time": "2023-10-21T19:19:17.280659",
     "exception": false,
     "start_time": "2023-10-21T19:19:16.898385",
     "status": "completed"
    },
    "tags": []
   },
   "outputs": [],
   "source": [
    "cases_ = None\n",
    "cases_is_empty = True\n",
    "\n",
    "def get_trend(rate: float) -> str:\n",
    "    if np.isnan(rate):\n",
    "        return np.NaN\n",
    "\n",
    "    if rate < 0.75:\n",
    "        status = 'downward'\n",
    "    elif rate > 1.15:\n",
    "        status = 'upward'\n",
    "    else:\n",
    "        status = 'stable'\n",
    "\n",
    "    return status\n",
    "\n",
    "for state in cases['state'].drop_duplicates():\n",
    "    cases_per_state = cases.query(f'state == \"{state}\"').reset_index(drop=True)\n",
    "    cases_per_state = cases_per_state.sort_values(by=['date'])\n",
    "    \n",
    "    # Cálculos para os casos\n",
    "    cases_per_state['confirmed_1d'] = cases_per_state['confirmed'].diff(periods=1)\n",
    "    cases_per_state['confirmed_moving_avg_7d'] = cases_per_state['confirmed_1d'].rolling(window=7).mean()\n",
    "    cases_per_state['confirmed_moving_avg_7d_rate_14d'] = cases_per_state['confirmed_moving_avg_7d']/cases_per_state['confirmed_moving_avg_7d'].shift(periods=14)\n",
    "    cases_per_state['confirmed_trend'] = cases_per_state['confirmed_moving_avg_7d_rate_14d'].apply(get_trend)\n",
    "    \n",
    "    # Cálculos para as mortes\n",
    "    cases_per_state['deaths_1d'] = cases_per_state['deaths'].diff(periods=1)\n",
    "    cases_per_state['deaths_moving_avg_7d'] = cases_per_state['deaths_1d'].rolling(window=7).mean()\n",
    "    cases_per_state['deaths_moving_avg_7d_rate_14d'] = cases_per_state['deaths_moving_avg_7d']/cases_per_state['deaths_moving_avg_7d'].shift(periods=14)\n",
    "    cases_per_state['deaths_trend'] = cases_per_state['deaths_moving_avg_7d_rate_14d'].apply(get_trend)\n",
    "\n",
    "    # Concatenação dos dados por estado\n",
    "    if cases_is_empty:\n",
    "        cases_ = cases_per_state\n",
    "        cases_is_empty = False\n",
    "    else:\n",
    "        cases_ = pd.concat([cases_, cases_per_state], ignore_index=True)\n",
    "\n",
    "# Novo DataFrame com novas colunas de métricas\n",
    "cases = cases_"
   ]
  },
  {
   "cell_type": "code",
   "execution_count": 15,
   "id": "b794dd86",
   "metadata": {
    "execution": {
     "iopub.execute_input": "2023-10-21T19:19:17.318066Z",
     "iopub.status.busy": "2023-10-21T19:19:17.317649Z",
     "iopub.status.idle": "2023-10-21T19:19:17.342415Z",
     "shell.execute_reply": "2023-10-21T19:19:17.341284Z"
    },
    "papermill": {
     "duration": 0.046219,
     "end_time": "2023-10-21T19:19:17.344708",
     "exception": false,
     "start_time": "2023-10-21T19:19:17.298489",
     "status": "completed"
    },
    "tags": []
   },
   "outputs": [
    {
     "data": {
      "text/html": [
       "<div>\n",
       "<style scoped>\n",
       "    .dataframe tbody tr th:only-of-type {\n",
       "        vertical-align: middle;\n",
       "    }\n",
       "\n",
       "    .dataframe tbody tr th {\n",
       "        vertical-align: top;\n",
       "    }\n",
       "\n",
       "    .dataframe thead th {\n",
       "        text-align: right;\n",
       "    }\n",
       "</style>\n",
       "<table border=\"1\" class=\"dataframe\">\n",
       "  <thead>\n",
       "    <tr style=\"text-align: right;\">\n",
       "      <th></th>\n",
       "      <th>state</th>\n",
       "      <th>country</th>\n",
       "      <th>confirmed</th>\n",
       "      <th>deaths</th>\n",
       "      <th>date</th>\n",
       "      <th>month</th>\n",
       "      <th>year</th>\n",
       "      <th>population</th>\n",
       "      <th>confirmed_1d</th>\n",
       "      <th>confirmed_moving_avg_7d</th>\n",
       "      <th>confirmed_moving_avg_7d_rate_14d</th>\n",
       "      <th>confirmed_trend</th>\n",
       "      <th>deaths_1d</th>\n",
       "      <th>deaths_moving_avg_7d</th>\n",
       "      <th>deaths_moving_avg_7d_rate_14d</th>\n",
       "      <th>deaths_trend</th>\n",
       "    </tr>\n",
       "  </thead>\n",
       "  <tbody>\n",
       "    <tr>\n",
       "      <th>9823</th>\n",
       "      <td>Tocantins</td>\n",
       "      <td>Brazil</td>\n",
       "      <td>234113</td>\n",
       "      <td>3927</td>\n",
       "      <td>2021-12-26</td>\n",
       "      <td>2021-12</td>\n",
       "      <td>2021</td>\n",
       "      <td>1572866.0</td>\n",
       "      <td>0.0</td>\n",
       "      <td>0.000000</td>\n",
       "      <td>0.000000</td>\n",
       "      <td>downward</td>\n",
       "      <td>0.0</td>\n",
       "      <td>0.000000</td>\n",
       "      <td>0.0</td>\n",
       "      <td>downward</td>\n",
       "    </tr>\n",
       "    <tr>\n",
       "      <th>9824</th>\n",
       "      <td>Tocantins</td>\n",
       "      <td>Brazil</td>\n",
       "      <td>234113</td>\n",
       "      <td>3927</td>\n",
       "      <td>2021-12-27</td>\n",
       "      <td>2021-12</td>\n",
       "      <td>2021</td>\n",
       "      <td>1572866.0</td>\n",
       "      <td>0.0</td>\n",
       "      <td>0.000000</td>\n",
       "      <td>0.000000</td>\n",
       "      <td>downward</td>\n",
       "      <td>0.0</td>\n",
       "      <td>0.000000</td>\n",
       "      <td>0.0</td>\n",
       "      <td>downward</td>\n",
       "    </tr>\n",
       "    <tr>\n",
       "      <th>9825</th>\n",
       "      <td>Tocantins</td>\n",
       "      <td>Brazil</td>\n",
       "      <td>234964</td>\n",
       "      <td>3933</td>\n",
       "      <td>2021-12-28</td>\n",
       "      <td>2021-12</td>\n",
       "      <td>2021</td>\n",
       "      <td>1572866.0</td>\n",
       "      <td>851.0</td>\n",
       "      <td>121.571429</td>\n",
       "      <td>2.846154</td>\n",
       "      <td>upward</td>\n",
       "      <td>6.0</td>\n",
       "      <td>0.857143</td>\n",
       "      <td>6.0</td>\n",
       "      <td>upward</td>\n",
       "    </tr>\n",
       "    <tr>\n",
       "      <th>9826</th>\n",
       "      <td>Tocantins</td>\n",
       "      <td>Brazil</td>\n",
       "      <td>235340</td>\n",
       "      <td>3936</td>\n",
       "      <td>2021-12-29</td>\n",
       "      <td>2021-12</td>\n",
       "      <td>2021</td>\n",
       "      <td>1572866.0</td>\n",
       "      <td>376.0</td>\n",
       "      <td>175.285714</td>\n",
       "      <td>inf</td>\n",
       "      <td>upward</td>\n",
       "      <td>3.0</td>\n",
       "      <td>1.285714</td>\n",
       "      <td>inf</td>\n",
       "      <td>upward</td>\n",
       "    </tr>\n",
       "    <tr>\n",
       "      <th>9827</th>\n",
       "      <td>Tocantins</td>\n",
       "      <td>Brazil</td>\n",
       "      <td>235558</td>\n",
       "      <td>3939</td>\n",
       "      <td>2021-12-30</td>\n",
       "      <td>2021-12</td>\n",
       "      <td>2021</td>\n",
       "      <td>1572866.0</td>\n",
       "      <td>218.0</td>\n",
       "      <td>206.428571</td>\n",
       "      <td>inf</td>\n",
       "      <td>upward</td>\n",
       "      <td>3.0</td>\n",
       "      <td>1.714286</td>\n",
       "      <td>inf</td>\n",
       "      <td>upward</td>\n",
       "    </tr>\n",
       "  </tbody>\n",
       "</table>\n",
       "</div>"
      ],
      "text/plain": [
       "          state country  confirmed  deaths       date    month  year  \\\n",
       "9823  Tocantins  Brazil     234113    3927 2021-12-26  2021-12  2021   \n",
       "9824  Tocantins  Brazil     234113    3927 2021-12-27  2021-12  2021   \n",
       "9825  Tocantins  Brazil     234964    3933 2021-12-28  2021-12  2021   \n",
       "9826  Tocantins  Brazil     235340    3936 2021-12-29  2021-12  2021   \n",
       "9827  Tocantins  Brazil     235558    3939 2021-12-30  2021-12  2021   \n",
       "\n",
       "      population  confirmed_1d  confirmed_moving_avg_7d  \\\n",
       "9823   1572866.0           0.0                 0.000000   \n",
       "9824   1572866.0           0.0                 0.000000   \n",
       "9825   1572866.0         851.0               121.571429   \n",
       "9826   1572866.0         376.0               175.285714   \n",
       "9827   1572866.0         218.0               206.428571   \n",
       "\n",
       "      confirmed_moving_avg_7d_rate_14d confirmed_trend  deaths_1d  \\\n",
       "9823                          0.000000        downward        0.0   \n",
       "9824                          0.000000        downward        0.0   \n",
       "9825                          2.846154          upward        6.0   \n",
       "9826                               inf          upward        3.0   \n",
       "9827                               inf          upward        3.0   \n",
       "\n",
       "      deaths_moving_avg_7d  deaths_moving_avg_7d_rate_14d deaths_trend  \n",
       "9823              0.000000                            0.0     downward  \n",
       "9824              0.000000                            0.0     downward  \n",
       "9825              0.857143                            6.0       upward  \n",
       "9826              1.285714                            inf       upward  \n",
       "9827              1.714286                            inf       upward  "
      ]
     },
     "execution_count": 15,
     "metadata": {},
     "output_type": "execute_result"
    }
   ],
   "source": [
    "cases.tail()"
   ]
  },
  {
   "cell_type": "markdown",
   "id": "500112e3",
   "metadata": {
    "papermill": {
     "duration": 0.018218,
     "end_time": "2023-10-21T19:19:17.381238",
     "exception": false,
     "start_time": "2023-10-21T19:19:17.363020",
     "status": "completed"
    },
    "tags": []
   },
   "source": [
    "Com o Seaborn podemos visualizar esses dados. Por exemplo, a quantidade de casos diários no estado de São Paulo pelo tempo em 2021."
   ]
  },
  {
   "cell_type": "code",
   "execution_count": 16,
   "id": "11a4869b",
   "metadata": {
    "execution": {
     "iopub.execute_input": "2023-10-21T19:19:17.419862Z",
     "iopub.status.busy": "2023-10-21T19:19:17.418651Z",
     "iopub.status.idle": "2023-10-21T19:19:18.211330Z",
     "shell.execute_reply": "2023-10-21T19:19:18.210212Z"
    },
    "papermill": {
     "duration": 0.814833,
     "end_time": "2023-10-21T19:19:18.214356",
     "exception": false,
     "start_time": "2023-10-21T19:19:17.399523",
     "status": "completed"
    },
    "tags": []
   },
   "outputs": [
    {
     "data": {
      "image/png": "[encoded data removed]",
      "text/plain": [
       "<Figure size 640x480 with 1 Axes>"
      ]
     },
     "metadata": {},
     "output_type": "display_data"
    }
   ],
   "source": [
    "with sns.axes_style('whitegrid'):\n",
    "    fig = sns.lineplot(data=cases.query('state == \"São Paulo\"'), x='date', y='confirmed_1d', marker='o', markersize=2, alpha=0.7, label='Casos diários')\n",
    "    fig = sns.lineplot(data=cases.query('state == \"São Paulo\"'), x='date', y='confirmed_moving_avg_7d', label='Média móvel')\n",
    "    fig.set(title='Casos no estado de São Paulo', xlabel='Data', ylabel='Casos')"
   ]
  },
  {
   "cell_type": "markdown",
   "id": "3f6bbb7e",
   "metadata": {
    "papermill": {
     "duration": 0.019516,
     "end_time": "2023-10-21T19:19:18.254086",
     "exception": false,
     "start_time": "2023-10-21T19:19:18.234570",
     "status": "completed"
    },
    "tags": []
   },
   "source": [
    "Os dados de população apresentam poucas variações por cada estado, em geral. Porém, podemos visualizar a evolução da população do Brasil pelo tempo em 2021, o que pode ser útil para contrastar com os casos e mortes."
   ]
  },
  {
   "cell_type": "code",
   "execution_count": 17,
   "id": "01e71697",
   "metadata": {
    "execution": {
     "iopub.execute_input": "2023-10-21T19:19:18.295798Z",
     "iopub.status.busy": "2023-10-21T19:19:18.294760Z",
     "iopub.status.idle": "2023-10-21T19:19:19.248125Z",
     "shell.execute_reply": "2023-10-21T19:19:19.246866Z"
    },
    "papermill": {
     "duration": 0.977249,
     "end_time": "2023-10-21T19:19:19.250998",
     "exception": false,
     "start_time": "2023-10-21T19:19:18.273749",
     "status": "completed"
    },
    "tags": []
   },
   "outputs": [
    {
     "data": {
      "image/png": "[encoded data removed]",
      "text/plain": [
       "<Figure size 640x480 with 1 Axes>"
      ]
     },
     "metadata": {},
     "output_type": "display_data"
    }
   ],
   "source": [
    "with sns.axes_style('darkgrid'):\n",
    "    fig = sns.lineplot(data=cases, x='date', y='population', errorbar=None, color='black')\n",
    "    fig.set(title='População do Brasil em 2021', xlabel='Data', ylabel='População (milhões)')"
   ]
  },
  {
   "cell_type": "markdown",
   "id": "9a1beebb",
   "metadata": {
    "papermill": {
     "duration": 0.020149,
     "end_time": "2023-10-21T19:19:19.292306",
     "exception": false,
     "start_time": "2023-10-21T19:19:19.272157",
     "status": "completed"
    },
    "tags": []
   },
   "source": [
    "## 2.2 - Vacinações (OWID)\n",
    "\n",
    "Os dados de vacinação também precisam ser extraídos e passar por uma etapa de limpeza. O arquivo CSV original contém muitas colunas, das quais são retiradas poucas com dados sobre população, 1.ª dose, 2.ª dose e assim por diante. Também é feito um filtro para obter apenas os dados do Brasil."
   ]
  },
  {
   "cell_type": "code",
   "execution_count": 18,
   "id": "0de7ec90",
   "metadata": {
    "execution": {
     "iopub.execute_input": "2023-10-21T19:19:19.335614Z",
     "iopub.status.busy": "2023-10-21T19:19:19.335226Z",
     "iopub.status.idle": "2023-10-21T19:19:23.206520Z",
     "shell.execute_reply": "2023-10-21T19:19:23.205242Z"
    },
    "papermill": {
     "duration": 3.89618,
     "end_time": "2023-10-21T19:19:23.209036",
     "exception": false,
     "start_time": "2023-10-21T19:19:19.312856",
     "status": "completed"
    },
    "tags": []
   },
   "outputs": [
    {
     "name": "stderr",
     "output_type": "stream",
     "text": [
      "/tmp/ipykernel_20/1368462406.py:1: FutureWarning: The argument 'infer_datetime_format' is deprecated and will be removed in a future version. A strict version of it is now the default, see https://pandas.pydata.org/pdeps/0004-consistent-to-datetime-parsing.html. You can safely remove this argument.\n",
      "  vaccines = pd.read_csv('../input/owid-dataset/owid-covid-data.csv', sep=',', parse_dates=[3], infer_datetime_format=True)\n"
     ]
    },
    {
     "data": {
      "text/html": [
       "<div>\n",
       "<style scoped>\n",
       "    .dataframe tbody tr th:only-of-type {\n",
       "        vertical-align: middle;\n",
       "    }\n",
       "\n",
       "    .dataframe tbody tr th {\n",
       "        vertical-align: top;\n",
       "    }\n",
       "\n",
       "    .dataframe thead th {\n",
       "        text-align: right;\n",
       "    }\n",
       "</style>\n",
       "<table border=\"1\" class=\"dataframe\">\n",
       "  <thead>\n",
       "    <tr style=\"text-align: right;\">\n",
       "      <th></th>\n",
       "      <th>iso_code</th>\n",
       "      <th>continent</th>\n",
       "      <th>location</th>\n",
       "      <th>date</th>\n",
       "      <th>total_cases</th>\n",
       "      <th>new_cases</th>\n",
       "      <th>new_cases_smoothed</th>\n",
       "      <th>total_deaths</th>\n",
       "      <th>new_deaths</th>\n",
       "      <th>new_deaths_smoothed</th>\n",
       "      <th>...</th>\n",
       "      <th>male_smokers</th>\n",
       "      <th>handwashing_facilities</th>\n",
       "      <th>hospital_beds_per_thousand</th>\n",
       "      <th>life_expectancy</th>\n",
       "      <th>human_development_index</th>\n",
       "      <th>population</th>\n",
       "      <th>excess_mortality_cumulative_absolute</th>\n",
       "      <th>excess_mortality_cumulative</th>\n",
       "      <th>excess_mortality</th>\n",
       "      <th>excess_mortality_cumulative_per_million</th>\n",
       "    </tr>\n",
       "  </thead>\n",
       "  <tbody>\n",
       "    <tr>\n",
       "      <th>0</th>\n",
       "      <td>AFG</td>\n",
       "      <td>Asia</td>\n",
       "      <td>Afghanistan</td>\n",
       "      <td>2020-01-03</td>\n",
       "      <td>NaN</td>\n",
       "      <td>0.0</td>\n",
       "      <td>NaN</td>\n",
       "      <td>NaN</td>\n",
       "      <td>0.0</td>\n",
       "      <td>NaN</td>\n",
       "      <td>...</td>\n",
       "      <td>NaN</td>\n",
       "      <td>37.746</td>\n",
       "      <td>0.5</td>\n",
       "      <td>64.83</td>\n",
       "      <td>0.511</td>\n",
       "      <td>41128772.0</td>\n",
       "      <td>NaN</td>\n",
       "      <td>NaN</td>\n",
       "      <td>NaN</td>\n",
       "      <td>NaN</td>\n",
       "    </tr>\n",
       "    <tr>\n",
       "      <th>1</th>\n",
       "      <td>AFG</td>\n",
       "      <td>Asia</td>\n",
       "      <td>Afghanistan</td>\n",
       "      <td>2020-01-04</td>\n",
       "      <td>NaN</td>\n",
       "      <td>0.0</td>\n",
       "      <td>NaN</td>\n",
       "      <td>NaN</td>\n",
       "      <td>0.0</td>\n",
       "      <td>NaN</td>\n",
       "      <td>...</td>\n",
       "      <td>NaN</td>\n",
       "      <td>37.746</td>\n",
       "      <td>0.5</td>\n",
       "      <td>64.83</td>\n",
       "      <td>0.511</td>\n",
       "      <td>41128772.0</td>\n",
       "      <td>NaN</td>\n",
       "      <td>NaN</td>\n",
       "      <td>NaN</td>\n",
       "      <td>NaN</td>\n",
       "    </tr>\n",
       "    <tr>\n",
       "      <th>2</th>\n",
       "      <td>AFG</td>\n",
       "      <td>Asia</td>\n",
       "      <td>Afghanistan</td>\n",
       "      <td>2020-01-05</td>\n",
       "      <td>NaN</td>\n",
       "      <td>0.0</td>\n",
       "      <td>NaN</td>\n",
       "      <td>NaN</td>\n",
       "      <td>0.0</td>\n",
       "      <td>NaN</td>\n",
       "      <td>...</td>\n",
       "      <td>NaN</td>\n",
       "      <td>37.746</td>\n",
       "      <td>0.5</td>\n",
       "      <td>64.83</td>\n",
       "      <td>0.511</td>\n",
       "      <td>41128772.0</td>\n",
       "      <td>NaN</td>\n",
       "      <td>NaN</td>\n",
       "      <td>NaN</td>\n",
       "      <td>NaN</td>\n",
       "    </tr>\n",
       "    <tr>\n",
       "      <th>3</th>\n",
       "      <td>AFG</td>\n",
       "      <td>Asia</td>\n",
       "      <td>Afghanistan</td>\n",
       "      <td>2020-01-06</td>\n",
       "      <td>NaN</td>\n",
       "      <td>0.0</td>\n",
       "      <td>NaN</td>\n",
       "      <td>NaN</td>\n",
       "      <td>0.0</td>\n",
       "      <td>NaN</td>\n",
       "      <td>...</td>\n",
       "      <td>NaN</td>\n",
       "      <td>37.746</td>\n",
       "      <td>0.5</td>\n",
       "      <td>64.83</td>\n",
       "      <td>0.511</td>\n",
       "      <td>41128772.0</td>\n",
       "      <td>NaN</td>\n",
       "      <td>NaN</td>\n",
       "      <td>NaN</td>\n",
       "      <td>NaN</td>\n",
       "    </tr>\n",
       "    <tr>\n",
       "      <th>4</th>\n",
       "      <td>AFG</td>\n",
       "      <td>Asia</td>\n",
       "      <td>Afghanistan</td>\n",
       "      <td>2020-01-07</td>\n",
       "      <td>NaN</td>\n",
       "      <td>0.0</td>\n",
       "      <td>NaN</td>\n",
       "      <td>NaN</td>\n",
       "      <td>0.0</td>\n",
       "      <td>NaN</td>\n",
       "      <td>...</td>\n",
       "      <td>NaN</td>\n",
       "      <td>37.746</td>\n",
       "      <td>0.5</td>\n",
       "      <td>64.83</td>\n",
       "      <td>0.511</td>\n",
       "      <td>41128772.0</td>\n",
       "      <td>NaN</td>\n",
       "      <td>NaN</td>\n",
       "      <td>NaN</td>\n",
       "      <td>NaN</td>\n",
       "    </tr>\n",
       "  </tbody>\n",
       "</table>\n",
       "<p>5 rows × 67 columns</p>\n",
       "</div>"
      ],
      "text/plain": [
       "  iso_code continent     location       date  total_cases  new_cases  \\\n",
       "0      AFG      Asia  Afghanistan 2020-01-03          NaN        0.0   \n",
       "1      AFG      Asia  Afghanistan 2020-01-04          NaN        0.0   \n",
       "2      AFG      Asia  Afghanistan 2020-01-05          NaN        0.0   \n",
       "3      AFG      Asia  Afghanistan 2020-01-06          NaN        0.0   \n",
       "4      AFG      Asia  Afghanistan 2020-01-07          NaN        0.0   \n",
       "\n",
       "   new_cases_smoothed  total_deaths  new_deaths  new_deaths_smoothed  ...  \\\n",
       "0                 NaN           NaN         0.0                  NaN  ...   \n",
       "1                 NaN           NaN         0.0                  NaN  ...   \n",
       "2                 NaN           NaN         0.0                  NaN  ...   \n",
       "3                 NaN           NaN         0.0                  NaN  ...   \n",
       "4                 NaN           NaN         0.0                  NaN  ...   \n",
       "\n",
       "   male_smokers  handwashing_facilities  hospital_beds_per_thousand  \\\n",
       "0           NaN                  37.746                         0.5   \n",
       "1           NaN                  37.746                         0.5   \n",
       "2           NaN                  37.746                         0.5   \n",
       "3           NaN                  37.746                         0.5   \n",
       "4           NaN                  37.746                         0.5   \n",
       "\n",
       "   life_expectancy  human_development_index  population  \\\n",
       "0            64.83                    0.511  41128772.0   \n",
       "1            64.83                    0.511  41128772.0   \n",
       "2            64.83                    0.511  41128772.0   \n",
       "3            64.83                    0.511  41128772.0   \n",
       "4            64.83                    0.511  41128772.0   \n",
       "\n",
       "   excess_mortality_cumulative_absolute  excess_mortality_cumulative  \\\n",
       "0                                   NaN                          NaN   \n",
       "1                                   NaN                          NaN   \n",
       "2                                   NaN                          NaN   \n",
       "3                                   NaN                          NaN   \n",
       "4                                   NaN                          NaN   \n",
       "\n",
       "   excess_mortality  excess_mortality_cumulative_per_million  \n",
       "0               NaN                                      NaN  \n",
       "1               NaN                                      NaN  \n",
       "2               NaN                                      NaN  \n",
       "3               NaN                                      NaN  \n",
       "4               NaN                                      NaN  \n",
       "\n",
       "[5 rows x 67 columns]"
      ]
     },
     "execution_count": 18,
     "metadata": {},
     "output_type": "execute_result"
    }
   ],
   "source": [
    "vaccines = pd.read_csv('../input/owid-dataset/owid-covid-data.csv', sep=',', parse_dates=[3], infer_datetime_format=True)\n",
    "vaccines.head()"
   ]
  },
  {
   "cell_type": "code",
   "execution_count": 19,
   "id": "712a5b3e",
   "metadata": {
    "execution": {
     "iopub.execute_input": "2023-10-21T19:19:23.252761Z",
     "iopub.status.busy": "2023-10-21T19:19:23.252340Z",
     "iopub.status.idle": "2023-10-21T19:19:23.260304Z",
     "shell.execute_reply": "2023-10-21T19:19:23.259138Z"
    },
    "papermill": {
     "duration": 0.032848,
     "end_time": "2023-10-21T19:19:23.262796",
     "exception": false,
     "start_time": "2023-10-21T19:19:23.229948",
     "status": "completed"
    },
    "tags": []
   },
   "outputs": [
    {
     "data": {
      "text/plain": [
       "Index(['iso_code', 'continent', 'location', 'date', 'total_cases', 'new_cases',\n",
       "       'new_cases_smoothed', 'total_deaths', 'new_deaths',\n",
       "       'new_deaths_smoothed', 'total_cases_per_million',\n",
       "       'new_cases_per_million', 'new_cases_smoothed_per_million',\n",
       "       'total_deaths_per_million', 'new_deaths_per_million',\n",
       "       'new_deaths_smoothed_per_million', 'reproduction_rate', 'icu_patients',\n",
       "       'icu_patients_per_million', 'hosp_patients',\n",
       "       'hosp_patients_per_million', 'weekly_icu_admissions',\n",
       "       'weekly_icu_admissions_per_million', 'weekly_hosp_admissions',\n",
       "       'weekly_hosp_admissions_per_million', 'total_tests', 'new_tests',\n",
       "       'total_tests_per_thousand', 'new_tests_per_thousand',\n",
       "       'new_tests_smoothed', 'new_tests_smoothed_per_thousand',\n",
       "       'positive_rate', 'tests_per_case', 'tests_units', 'total_vaccinations',\n",
       "       'people_vaccinated', 'people_fully_vaccinated', 'total_boosters',\n",
       "       'new_vaccinations', 'new_vaccinations_smoothed',\n",
       "       'total_vaccinations_per_hundred', 'people_vaccinated_per_hundred',\n",
       "       'people_fully_vaccinated_per_hundred', 'total_boosters_per_hundred',\n",
       "       'new_vaccinations_smoothed_per_million',\n",
       "       'new_people_vaccinated_smoothed',\n",
       "       'new_people_vaccinated_smoothed_per_hundred', 'stringency_index',\n",
       "       'population_density', 'median_age', 'aged_65_older', 'aged_70_older',\n",
       "       'gdp_per_capita', 'extreme_poverty', 'cardiovasc_death_rate',\n",
       "       'diabetes_prevalence', 'female_smokers', 'male_smokers',\n",
       "       'handwashing_facilities', 'hospital_beds_per_thousand',\n",
       "       'life_expectancy', 'human_development_index', 'population',\n",
       "       'excess_mortality_cumulative_absolute', 'excess_mortality_cumulative',\n",
       "       'excess_mortality', 'excess_mortality_cumulative_per_million'],\n",
       "      dtype='object')"
      ]
     },
     "execution_count": 19,
     "metadata": {},
     "output_type": "execute_result"
    }
   ],
   "source": [
    "vaccines.columns"
   ]
  },
  {
   "cell_type": "code",
   "execution_count": 20,
   "id": "6d9251d9",
   "metadata": {
    "execution": {
     "iopub.execute_input": "2023-10-21T19:19:23.307009Z",
     "iopub.status.busy": "2023-10-21T19:19:23.306606Z",
     "iopub.status.idle": "2023-10-21T19:19:23.333472Z",
     "shell.execute_reply": "2023-10-21T19:19:23.332617Z"
    },
    "papermill": {
     "duration": 0.051723,
     "end_time": "2023-10-21T19:19:23.335947",
     "exception": false,
     "start_time": "2023-10-21T19:19:23.284224",
     "status": "completed"
    },
    "tags": []
   },
   "outputs": [],
   "source": [
    "vaccines = vaccines.query('location == \"Brazil\"').reset_index(drop=True)\n",
    "vaccines = vaccines[['location', 'population', 'total_vaccinations', 'people_vaccinated', 'people_fully_vaccinated', 'total_boosters', 'date']]"
   ]
  },
  {
   "cell_type": "code",
   "execution_count": 21,
   "id": "50aca0be",
   "metadata": {
    "execution": {
     "iopub.execute_input": "2023-10-21T19:19:23.381616Z",
     "iopub.status.busy": "2023-10-21T19:19:23.380925Z",
     "iopub.status.idle": "2023-10-21T19:19:23.394479Z",
     "shell.execute_reply": "2023-10-21T19:19:23.393737Z"
    },
    "papermill": {
     "duration": 0.038956,
     "end_time": "2023-10-21T19:19:23.396987",
     "exception": false,
     "start_time": "2023-10-21T19:19:23.358031",
     "status": "completed"
    },
    "tags": []
   },
   "outputs": [
    {
     "data": {
      "text/html": [
       "<div>\n",
       "<style scoped>\n",
       "    .dataframe tbody tr th:only-of-type {\n",
       "        vertical-align: middle;\n",
       "    }\n",
       "\n",
       "    .dataframe tbody tr th {\n",
       "        vertical-align: top;\n",
       "    }\n",
       "\n",
       "    .dataframe thead th {\n",
       "        text-align: right;\n",
       "    }\n",
       "</style>\n",
       "<table border=\"1\" class=\"dataframe\">\n",
       "  <thead>\n",
       "    <tr style=\"text-align: right;\">\n",
       "      <th></th>\n",
       "      <th>location</th>\n",
       "      <th>population</th>\n",
       "      <th>total_vaccinations</th>\n",
       "      <th>people_vaccinated</th>\n",
       "      <th>people_fully_vaccinated</th>\n",
       "      <th>total_boosters</th>\n",
       "      <th>date</th>\n",
       "    </tr>\n",
       "  </thead>\n",
       "  <tbody>\n",
       "    <tr>\n",
       "      <th>0</th>\n",
       "      <td>Brazil</td>\n",
       "      <td>215313504.0</td>\n",
       "      <td>NaN</td>\n",
       "      <td>NaN</td>\n",
       "      <td>NaN</td>\n",
       "      <td>NaN</td>\n",
       "      <td>2020-01-03</td>\n",
       "    </tr>\n",
       "    <tr>\n",
       "      <th>1</th>\n",
       "      <td>Brazil</td>\n",
       "      <td>215313504.0</td>\n",
       "      <td>NaN</td>\n",
       "      <td>NaN</td>\n",
       "      <td>NaN</td>\n",
       "      <td>NaN</td>\n",
       "      <td>2020-01-04</td>\n",
       "    </tr>\n",
       "    <tr>\n",
       "      <th>2</th>\n",
       "      <td>Brazil</td>\n",
       "      <td>215313504.0</td>\n",
       "      <td>NaN</td>\n",
       "      <td>NaN</td>\n",
       "      <td>NaN</td>\n",
       "      <td>NaN</td>\n",
       "      <td>2020-01-05</td>\n",
       "    </tr>\n",
       "    <tr>\n",
       "      <th>3</th>\n",
       "      <td>Brazil</td>\n",
       "      <td>215313504.0</td>\n",
       "      <td>NaN</td>\n",
       "      <td>NaN</td>\n",
       "      <td>NaN</td>\n",
       "      <td>NaN</td>\n",
       "      <td>2020-01-06</td>\n",
       "    </tr>\n",
       "    <tr>\n",
       "      <th>4</th>\n",
       "      <td>Brazil</td>\n",
       "      <td>215313504.0</td>\n",
       "      <td>NaN</td>\n",
       "      <td>NaN</td>\n",
       "      <td>NaN</td>\n",
       "      <td>NaN</td>\n",
       "      <td>2020-01-07</td>\n",
       "    </tr>\n",
       "  </tbody>\n",
       "</table>\n",
       "</div>"
      ],
      "text/plain": [
       "  location   population  total_vaccinations  people_vaccinated  \\\n",
       "0   Brazil  215313504.0                 NaN                NaN   \n",
       "1   Brazil  215313504.0                 NaN                NaN   \n",
       "2   Brazil  215313504.0                 NaN                NaN   \n",
       "3   Brazil  215313504.0                 NaN                NaN   \n",
       "4   Brazil  215313504.0                 NaN                NaN   \n",
       "\n",
       "   people_fully_vaccinated  total_boosters       date  \n",
       "0                      NaN             NaN 2020-01-03  \n",
       "1                      NaN             NaN 2020-01-04  \n",
       "2                      NaN             NaN 2020-01-05  \n",
       "3                      NaN             NaN 2020-01-06  \n",
       "4                      NaN             NaN 2020-01-07  "
      ]
     },
     "execution_count": 21,
     "metadata": {},
     "output_type": "execute_result"
    }
   ],
   "source": [
    "vaccines.head()"
   ]
  },
  {
   "cell_type": "code",
   "execution_count": 22,
   "id": "8f9c65e7",
   "metadata": {
    "execution": {
     "iopub.execute_input": "2023-10-21T19:19:23.442585Z",
     "iopub.status.busy": "2023-10-21T19:19:23.442157Z",
     "iopub.status.idle": "2023-10-21T19:19:23.448528Z",
     "shell.execute_reply": "2023-10-21T19:19:23.447517Z"
    },
    "papermill": {
     "duration": 0.03214,
     "end_time": "2023-10-21T19:19:23.450947",
     "exception": false,
     "start_time": "2023-10-21T19:19:23.418807",
     "status": "completed"
    },
    "tags": []
   },
   "outputs": [
    {
     "data": {
      "text/plain": [
       "(1385, 7)"
      ]
     },
     "execution_count": 22,
     "metadata": {},
     "output_type": "execute_result"
    }
   ],
   "source": [
    "vaccines.shape"
   ]
  },
  {
   "cell_type": "code",
   "execution_count": 23,
   "id": "5ddeee72",
   "metadata": {
    "execution": {
     "iopub.execute_input": "2023-10-21T19:19:23.496911Z",
     "iopub.status.busy": "2023-10-21T19:19:23.496526Z",
     "iopub.status.idle": "2023-10-21T19:19:23.508292Z",
     "shell.execute_reply": "2023-10-21T19:19:23.507163Z"
    },
    "papermill": {
     "duration": 0.037837,
     "end_time": "2023-10-21T19:19:23.511118",
     "exception": false,
     "start_time": "2023-10-21T19:19:23.473281",
     "status": "completed"
    },
    "tags": []
   },
   "outputs": [
    {
     "name": "stdout",
     "output_type": "stream",
     "text": [
      "<class 'pandas.core.frame.DataFrame'>\n",
      "RangeIndex: 1385 entries, 0 to 1384\n",
      "Data columns (total 7 columns):\n",
      " #   Column                   Non-Null Count  Dtype         \n",
      "---  ------                   --------------  -----         \n",
      " 0   location                 1385 non-null   object        \n",
      " 1   population               1385 non-null   float64       \n",
      " 2   total_vaccinations       695 non-null    float64       \n",
      " 3   people_vaccinated        691 non-null    float64       \n",
      " 4   people_fully_vaccinated  675 non-null    float64       \n",
      " 5   total_boosters           455 non-null    float64       \n",
      " 6   date                     1385 non-null   datetime64[ns]\n",
      "dtypes: datetime64[ns](1), float64(5), object(1)\n",
      "memory usage: 75.9+ KB\n"
     ]
    }
   ],
   "source": [
    "vaccines.info()"
   ]
  },
  {
   "cell_type": "markdown",
   "id": "270c5ba1",
   "metadata": {
    "papermill": {
     "duration": 0.021769,
     "end_time": "2023-10-21T19:19:23.555624",
     "exception": false,
     "start_time": "2023-10-21T19:19:23.533855",
     "status": "completed"
    },
    "tags": []
   },
   "source": [
    "O DataFrame contém dados faltantes, como pode ser visto pelo método `DataFrame.isna().any()`. O método escolhido para preencher estes valores é o `DataFrame.fillna()` com *forward fill*. Ou seja, os buracos são preenchidos com o valor anterior válido mais próximo."
   ]
  },
  {
   "cell_type": "code",
   "execution_count": 24,
   "id": "2161dded",
   "metadata": {
    "execution": {
     "iopub.execute_input": "2023-10-21T19:19:23.602881Z",
     "iopub.status.busy": "2023-10-21T19:19:23.600647Z",
     "iopub.status.idle": "2023-10-21T19:19:23.611911Z",
     "shell.execute_reply": "2023-10-21T19:19:23.610778Z"
    },
    "papermill": {
     "duration": 0.036753,
     "end_time": "2023-10-21T19:19:23.614432",
     "exception": false,
     "start_time": "2023-10-21T19:19:23.577679",
     "status": "completed"
    },
    "tags": []
   },
   "outputs": [
    {
     "data": {
      "text/plain": [
       "location                   False\n",
       "population                 False\n",
       "total_vaccinations          True\n",
       "people_vaccinated           True\n",
       "people_fully_vaccinated     True\n",
       "total_boosters              True\n",
       "date                       False\n",
       "dtype: bool"
      ]
     },
     "execution_count": 24,
     "metadata": {},
     "output_type": "execute_result"
    }
   ],
   "source": [
    "vaccines.isna().any()"
   ]
  },
  {
   "cell_type": "code",
   "execution_count": 25,
   "id": "6c82777c",
   "metadata": {
    "execution": {
     "iopub.execute_input": "2023-10-21T19:19:23.660474Z",
     "iopub.status.busy": "2023-10-21T19:19:23.660049Z",
     "iopub.status.idle": "2023-10-21T19:19:23.669847Z",
     "shell.execute_reply": "2023-10-21T19:19:23.668632Z"
    },
    "papermill": {
     "duration": 0.035969,
     "end_time": "2023-10-21T19:19:23.672408",
     "exception": false,
     "start_time": "2023-10-21T19:19:23.636439",
     "status": "completed"
    },
    "tags": []
   },
   "outputs": [],
   "source": [
    "vaccines = vaccines.fillna(method='ffill')"
   ]
  },
  {
   "cell_type": "markdown",
   "id": "b017de42",
   "metadata": {
    "papermill": {
     "duration": 0.021389,
     "end_time": "2023-10-21T19:19:23.716235",
     "exception": false,
     "start_time": "2023-10-21T19:19:23.694846",
     "status": "completed"
    },
    "tags": []
   },
   "source": [
    "O período de tempo também é filtrado para conter apenas os dados de 2021."
   ]
  },
  {
   "cell_type": "code",
   "execution_count": 26,
   "id": "3f03af32",
   "metadata": {
    "execution": {
     "iopub.execute_input": "2023-10-21T19:19:23.762105Z",
     "iopub.status.busy": "2023-10-21T19:19:23.761704Z",
     "iopub.status.idle": "2023-10-21T19:19:23.769830Z",
     "shell.execute_reply": "2023-10-21T19:19:23.768698Z"
    },
    "papermill": {
     "duration": 0.033846,
     "end_time": "2023-10-21T19:19:23.772355",
     "exception": false,
     "start_time": "2023-10-21T19:19:23.738509",
     "status": "completed"
    },
    "tags": []
   },
   "outputs": [],
   "source": [
    "vaccines = vaccines[(vaccines['date'] >= '2021-01-01') & (vaccines['date'] <= '2021-12-31')].reset_index(drop=True)"
   ]
  },
  {
   "cell_type": "code",
   "execution_count": 27,
   "id": "9752e279",
   "metadata": {
    "execution": {
     "iopub.execute_input": "2023-10-21T19:19:23.818460Z",
     "iopub.status.busy": "2023-10-21T19:19:23.818081Z",
     "iopub.status.idle": "2023-10-21T19:19:23.825338Z",
     "shell.execute_reply": "2023-10-21T19:19:23.824280Z"
    },
    "papermill": {
     "duration": 0.033067,
     "end_time": "2023-10-21T19:19:23.827826",
     "exception": false,
     "start_time": "2023-10-21T19:19:23.794759",
     "status": "completed"
    },
    "tags": []
   },
   "outputs": [
    {
     "data": {
      "text/plain": [
       "(365, 7)"
      ]
     },
     "execution_count": 27,
     "metadata": {},
     "output_type": "execute_result"
    }
   ],
   "source": [
    "vaccines.shape"
   ]
  },
  {
   "cell_type": "markdown",
   "id": "15d28ce0",
   "metadata": {
    "papermill": {
     "duration": 0.022504,
     "end_time": "2023-10-21T19:19:23.872324",
     "exception": false,
     "start_time": "2023-10-21T19:19:23.849820",
     "status": "completed"
    },
    "tags": []
   },
   "source": [
    "Renomeamos as colunas com nomes padronizados e minúsculos, para facilitar a posterior etape de *dashboard*."
   ]
  },
  {
   "cell_type": "code",
   "execution_count": 28,
   "id": "b3babe2c",
   "metadata": {
    "execution": {
     "iopub.execute_input": "2023-10-21T19:19:23.917903Z",
     "iopub.status.busy": "2023-10-21T19:19:23.917478Z",
     "iopub.status.idle": "2023-10-21T19:19:23.923602Z",
     "shell.execute_reply": "2023-10-21T19:19:23.922683Z"
    },
    "papermill": {
     "duration": 0.031577,
     "end_time": "2023-10-21T19:19:23.925876",
     "exception": false,
     "start_time": "2023-10-21T19:19:23.894299",
     "status": "completed"
    },
    "tags": []
   },
   "outputs": [],
   "source": [
    "vaccines = vaccines.rename(\n",
    "    columns={\n",
    "        'location': 'country',\n",
    "        'total_vaccinations': 'total',\n",
    "        'people_vaccinated': 'one_shot',\n",
    "        'people_fully_vaccinated': 'two_shots',\n",
    "        'total_boosters': 'three_shots'\n",
    "    }\n",
    ")"
   ]
  },
  {
   "cell_type": "code",
   "execution_count": 29,
   "id": "9841b199",
   "metadata": {
    "execution": {
     "iopub.execute_input": "2023-10-21T19:19:23.972158Z",
     "iopub.status.busy": "2023-10-21T19:19:23.971786Z",
     "iopub.status.idle": "2023-10-21T19:19:23.977700Z",
     "shell.execute_reply": "2023-10-21T19:19:23.976826Z"
    },
    "papermill": {
     "duration": 0.031741,
     "end_time": "2023-10-21T19:19:23.979895",
     "exception": false,
     "start_time": "2023-10-21T19:19:23.948154",
     "status": "completed"
    },
    "tags": []
   },
   "outputs": [
    {
     "data": {
      "text/plain": [
       "Index(['country', 'population', 'total', 'one_shot', 'two_shots',\n",
       "       'three_shots', 'date'],\n",
       "      dtype='object')"
      ]
     },
     "execution_count": 29,
     "metadata": {},
     "output_type": "execute_result"
    }
   ],
   "source": [
    "vaccines.columns"
   ]
  },
  {
   "cell_type": "markdown",
   "id": "0c0a164a",
   "metadata": {
    "papermill": {
     "duration": 0.021937,
     "end_time": "2023-10-21T19:19:24.024091",
     "exception": false,
     "start_time": "2023-10-21T19:19:24.002154",
     "status": "completed"
    },
    "tags": []
   },
   "source": [
    "Adicionamos novamente as colunas temporais e mês e ano. Além disso, colocamos colunas de percentual dos tipos de vacinação com 1, 2 ou 3 doses, dividindo pelos dados de população.\n",
    "\n",
    "* Chaves temporais:"
   ]
  },
  {
   "cell_type": "code",
   "execution_count": 30,
   "id": "76522e84",
   "metadata": {
    "execution": {
     "iopub.execute_input": "2023-10-21T19:19:24.070678Z",
     "iopub.status.busy": "2023-10-21T19:19:24.069965Z",
     "iopub.status.idle": "2023-10-21T19:19:24.083084Z",
     "shell.execute_reply": "2023-10-21T19:19:24.081941Z"
    },
    "papermill": {
     "duration": 0.039566,
     "end_time": "2023-10-21T19:19:24.085798",
     "exception": false,
     "start_time": "2023-10-21T19:19:24.046232",
     "status": "completed"
    },
    "tags": []
   },
   "outputs": [],
   "source": [
    "vaccines['month'] = vaccines['date'].apply(lambda x: x.strftime('%Y-%m'))\n",
    "vaccines['year'] = vaccines['date'].apply(lambda x: x.strftime('%Y'))"
   ]
  },
  {
   "cell_type": "markdown",
   "id": "11a1bf18",
   "metadata": {
    "papermill": {
     "duration": 0.02204,
     "end_time": "2023-10-21T19:19:24.130824",
     "exception": false,
     "start_time": "2023-10-21T19:19:24.108784",
     "status": "completed"
    },
    "tags": []
   },
   "source": [
    "* Dados relativos:"
   ]
  },
  {
   "cell_type": "code",
   "execution_count": 31,
   "id": "0d0779db",
   "metadata": {
    "execution": {
     "iopub.execute_input": "2023-10-21T19:19:24.177381Z",
     "iopub.status.busy": "2023-10-21T19:19:24.176351Z",
     "iopub.status.idle": "2023-10-21T19:19:24.185326Z",
     "shell.execute_reply": "2023-10-21T19:19:24.184083Z"
    },
    "papermill": {
     "duration": 0.035059,
     "end_time": "2023-10-21T19:19:24.187939",
     "exception": false,
     "start_time": "2023-10-21T19:19:24.152880",
     "status": "completed"
    },
    "tags": []
   },
   "outputs": [],
   "source": [
    "vaccines['one_shot_perc'] = round(vaccines['one_shot'] / vaccines['population'], 4)\n",
    "vaccines['two_shots_perc'] = round(vaccines['two_shots'] / vaccines['population'], 4)\n",
    "vaccines['three_shots_perc'] = round(vaccines['three_shots'] / vaccines['population'], 4)"
   ]
  },
  {
   "cell_type": "code",
   "execution_count": 32,
   "id": "78e6c839",
   "metadata": {
    "execution": {
     "iopub.execute_input": "2023-10-21T19:19:24.234828Z",
     "iopub.status.busy": "2023-10-21T19:19:24.234295Z",
     "iopub.status.idle": "2023-10-21T19:19:24.254218Z",
     "shell.execute_reply": "2023-10-21T19:19:24.253412Z"
    },
    "papermill": {
     "duration": 0.046279,
     "end_time": "2023-10-21T19:19:24.256767",
     "exception": false,
     "start_time": "2023-10-21T19:19:24.210488",
     "status": "completed"
    },
    "tags": []
   },
   "outputs": [
    {
     "data": {
      "text/html": [
       "<div>\n",
       "<style scoped>\n",
       "    .dataframe tbody tr th:only-of-type {\n",
       "        vertical-align: middle;\n",
       "    }\n",
       "\n",
       "    .dataframe tbody tr th {\n",
       "        vertical-align: top;\n",
       "    }\n",
       "\n",
       "    .dataframe thead th {\n",
       "        text-align: right;\n",
       "    }\n",
       "</style>\n",
       "<table border=\"1\" class=\"dataframe\">\n",
       "  <thead>\n",
       "    <tr style=\"text-align: right;\">\n",
       "      <th></th>\n",
       "      <th>country</th>\n",
       "      <th>population</th>\n",
       "      <th>total</th>\n",
       "      <th>one_shot</th>\n",
       "      <th>two_shots</th>\n",
       "      <th>three_shots</th>\n",
       "      <th>date</th>\n",
       "      <th>month</th>\n",
       "      <th>year</th>\n",
       "      <th>one_shot_perc</th>\n",
       "      <th>two_shots_perc</th>\n",
       "      <th>three_shots_perc</th>\n",
       "    </tr>\n",
       "  </thead>\n",
       "  <tbody>\n",
       "    <tr>\n",
       "      <th>0</th>\n",
       "      <td>Brazil</td>\n",
       "      <td>215313504.0</td>\n",
       "      <td>NaN</td>\n",
       "      <td>NaN</td>\n",
       "      <td>NaN</td>\n",
       "      <td>NaN</td>\n",
       "      <td>2021-01-01</td>\n",
       "      <td>2021-01</td>\n",
       "      <td>2021</td>\n",
       "      <td>NaN</td>\n",
       "      <td>NaN</td>\n",
       "      <td>NaN</td>\n",
       "    </tr>\n",
       "    <tr>\n",
       "      <th>1</th>\n",
       "      <td>Brazil</td>\n",
       "      <td>215313504.0</td>\n",
       "      <td>NaN</td>\n",
       "      <td>NaN</td>\n",
       "      <td>NaN</td>\n",
       "      <td>NaN</td>\n",
       "      <td>2021-01-02</td>\n",
       "      <td>2021-01</td>\n",
       "      <td>2021</td>\n",
       "      <td>NaN</td>\n",
       "      <td>NaN</td>\n",
       "      <td>NaN</td>\n",
       "    </tr>\n",
       "    <tr>\n",
       "      <th>2</th>\n",
       "      <td>Brazil</td>\n",
       "      <td>215313504.0</td>\n",
       "      <td>NaN</td>\n",
       "      <td>NaN</td>\n",
       "      <td>NaN</td>\n",
       "      <td>NaN</td>\n",
       "      <td>2021-01-03</td>\n",
       "      <td>2021-01</td>\n",
       "      <td>2021</td>\n",
       "      <td>NaN</td>\n",
       "      <td>NaN</td>\n",
       "      <td>NaN</td>\n",
       "    </tr>\n",
       "    <tr>\n",
       "      <th>3</th>\n",
       "      <td>Brazil</td>\n",
       "      <td>215313504.0</td>\n",
       "      <td>NaN</td>\n",
       "      <td>NaN</td>\n",
       "      <td>NaN</td>\n",
       "      <td>NaN</td>\n",
       "      <td>2021-01-04</td>\n",
       "      <td>2021-01</td>\n",
       "      <td>2021</td>\n",
       "      <td>NaN</td>\n",
       "      <td>NaN</td>\n",
       "      <td>NaN</td>\n",
       "    </tr>\n",
       "    <tr>\n",
       "      <th>4</th>\n",
       "      <td>Brazil</td>\n",
       "      <td>215313504.0</td>\n",
       "      <td>NaN</td>\n",
       "      <td>NaN</td>\n",
       "      <td>NaN</td>\n",
       "      <td>NaN</td>\n",
       "      <td>2021-01-05</td>\n",
       "      <td>2021-01</td>\n",
       "      <td>2021</td>\n",
       "      <td>NaN</td>\n",
       "      <td>NaN</td>\n",
       "      <td>NaN</td>\n",
       "    </tr>\n",
       "  </tbody>\n",
       "</table>\n",
       "</div>"
      ],
      "text/plain": [
       "  country   population  total  one_shot  two_shots  three_shots       date  \\\n",
       "0  Brazil  215313504.0    NaN       NaN        NaN          NaN 2021-01-01   \n",
       "1  Brazil  215313504.0    NaN       NaN        NaN          NaN 2021-01-02   \n",
       "2  Brazil  215313504.0    NaN       NaN        NaN          NaN 2021-01-03   \n",
       "3  Brazil  215313504.0    NaN       NaN        NaN          NaN 2021-01-04   \n",
       "4  Brazil  215313504.0    NaN       NaN        NaN          NaN 2021-01-05   \n",
       "\n",
       "     month  year  one_shot_perc  two_shots_perc  three_shots_perc  \n",
       "0  2021-01  2021            NaN             NaN               NaN  \n",
       "1  2021-01  2021            NaN             NaN               NaN  \n",
       "2  2021-01  2021            NaN             NaN               NaN  \n",
       "3  2021-01  2021            NaN             NaN               NaN  \n",
       "4  2021-01  2021            NaN             NaN               NaN  "
      ]
     },
     "execution_count": 32,
     "metadata": {},
     "output_type": "execute_result"
    }
   ],
   "source": [
    "vaccines.head()"
   ]
  },
  {
   "cell_type": "markdown",
   "id": "e3792cff",
   "metadata": {
    "papermill": {
     "duration": 0.022219,
     "end_time": "2023-10-21T19:19:24.301911",
     "exception": false,
     "start_time": "2023-10-21T19:19:24.279692",
     "status": "completed"
    },
    "tags": []
   },
   "source": [
    "Para garantir a consistência dos dados, checamos os tipos dos dados fazendo um *type casting*."
   ]
  },
  {
   "cell_type": "code",
   "execution_count": 33,
   "id": "cfa2db47",
   "metadata": {
    "execution": {
     "iopub.execute_input": "2023-10-21T19:19:24.349820Z",
     "iopub.status.busy": "2023-10-21T19:19:24.348474Z",
     "iopub.status.idle": "2023-10-21T19:19:24.359795Z",
     "shell.execute_reply": "2023-10-21T19:19:24.358934Z"
    },
    "papermill": {
     "duration": 0.037784,
     "end_time": "2023-10-21T19:19:24.362277",
     "exception": false,
     "start_time": "2023-10-21T19:19:24.324493",
     "status": "completed"
    },
    "tags": []
   },
   "outputs": [],
   "source": [
    "vaccines['population'] = vaccines['population'].astype('Int64')\n",
    "vaccines['total'] = vaccines['total'].astype('Int64')\n",
    "vaccines['one_shot'] = vaccines['one_shot'].astype('Int64')\n",
    "vaccines['two_shots'] = vaccines['two_shots'].astype('Int64')\n",
    "vaccines['three_shots'] = vaccines['three_shots'].astype('Int64')"
   ]
  },
  {
   "cell_type": "code",
   "execution_count": 34,
   "id": "d2ad1114",
   "metadata": {
    "execution": {
     "iopub.execute_input": "2023-10-21T19:19:24.409602Z",
     "iopub.status.busy": "2023-10-21T19:19:24.408530Z",
     "iopub.status.idle": "2023-10-21T19:19:24.502104Z",
     "shell.execute_reply": "2023-10-21T19:19:24.501001Z"
    },
    "papermill": {
     "duration": 0.120278,
     "end_time": "2023-10-21T19:19:24.505029",
     "exception": false,
     "start_time": "2023-10-21T19:19:24.384751",
     "status": "completed"
    },
    "tags": []
   },
   "outputs": [
    {
     "name": "stdout",
     "output_type": "stream",
     "text": [
      "<class 'pandas.core.frame.DataFrame'>\n",
      "RangeIndex: 365 entries, 0 to 364\n",
      "Data columns (total 12 columns):\n",
      " #   Column            Non-Null Count  Dtype         \n",
      "---  ------            --------------  -----         \n",
      " 0   country           365 non-null    object        \n",
      " 1   population        365 non-null    Int64         \n",
      " 2   total             349 non-null    Int64         \n",
      " 3   one_shot          349 non-null    Int64         \n",
      " 4   two_shots         330 non-null    Int64         \n",
      " 5   three_shots       121 non-null    Int64         \n",
      " 6   date              365 non-null    datetime64[ns]\n",
      " 7   month             365 non-null    object        \n",
      " 8   year              365 non-null    object        \n",
      " 9   one_shot_perc     349 non-null    float64       \n",
      " 10  two_shots_perc    330 non-null    float64       \n",
      " 11  three_shots_perc  121 non-null    float64       \n",
      "dtypes: Int64(5), datetime64[ns](1), float64(3), object(3)\n",
      "memory usage: 36.1+ KB\n"
     ]
    }
   ],
   "source": [
    "vaccines.info()"
   ]
  },
  {
   "cell_type": "markdown",
   "id": "62de3827",
   "metadata": {
    "papermill": {
     "duration": 0.022346,
     "end_time": "2023-10-21T19:19:24.550100",
     "exception": false,
     "start_time": "2023-10-21T19:19:24.527754",
     "status": "completed"
    },
    "tags": []
   },
   "source": [
    "Por fim, reorganizamos a ordem das colunas para gerar o DataFrame final."
   ]
  },
  {
   "cell_type": "code",
   "execution_count": 35,
   "id": "14b8389c",
   "metadata": {
    "execution": {
     "iopub.execute_input": "2023-10-21T19:19:24.597514Z",
     "iopub.status.busy": "2023-10-21T19:19:24.597146Z",
     "iopub.status.idle": "2023-10-21T19:19:24.603994Z",
     "shell.execute_reply": "2023-10-21T19:19:24.603097Z"
    },
    "papermill": {
     "duration": 0.033174,
     "end_time": "2023-10-21T19:19:24.606134",
     "exception": false,
     "start_time": "2023-10-21T19:19:24.572960",
     "status": "completed"
    },
    "tags": []
   },
   "outputs": [],
   "source": [
    "vaccines = vaccines[['date', 'month', 'year', 'country', 'population', 'total', 'one_shot', 'one_shot_perc', 'two_shots', 'two_shots_perc', 'three_shots', 'three_shots_perc']]"
   ]
  },
  {
   "cell_type": "markdown",
   "id": "5c1afb19",
   "metadata": {
    "papermill": {
     "duration": 0.02226,
     "end_time": "2023-10-21T19:19:24.651069",
     "exception": false,
     "start_time": "2023-10-21T19:19:24.628809",
     "status": "completed"
    },
    "tags": []
   },
   "source": [
    "Podemos visualizar como ficam os dados dos tipos de doses (uma dose, imunização completa e dose de reforço) no Brasil em 2021, novamente usando o Seaborn."
   ]
  },
  {
   "cell_type": "code",
   "execution_count": 36,
   "id": "d61cdc37",
   "metadata": {
    "execution": {
     "iopub.execute_input": "2023-10-21T19:19:24.698696Z",
     "iopub.status.busy": "2023-10-21T19:19:24.697564Z",
     "iopub.status.idle": "2023-10-21T19:19:25.439460Z",
     "shell.execute_reply": "2023-10-21T19:19:25.438323Z"
    },
    "papermill": {
     "duration": 0.768238,
     "end_time": "2023-10-21T19:19:25.441944",
     "exception": false,
     "start_time": "2023-10-21T19:19:24.673706",
     "status": "completed"
    },
    "tags": []
   },
   "outputs": [
    {
     "data": {
      "image/png": "[encoded data removed]",
      "text/plain": [
       "<Figure size 640x480 with 1 Axes>"
      ]
     },
     "metadata": {},
     "output_type": "display_data"
    }
   ],
   "source": [
    "with sns.axes_style('whitegrid'):\n",
    "    fig = sns.lineplot(data=vaccines, x='date', y='one_shot_perc', label='1 dose')\n",
    "    fig = sns.lineplot(data=vaccines, x='date', y='two_shots_perc', label='2 doses')\n",
    "    fig = sns.lineplot(data=vaccines, x='date', y='three_shots_perc', label='3 doses')\n",
    "    fig.set(title='Curvas de vacinação relativa no Brasil', xlabel='Data', ylabel='Vacinação relativa')"
   ]
  },
  {
   "cell_type": "markdown",
   "id": "e07177c0",
   "metadata": {
    "papermill": {
     "duration": 0.023222,
     "end_time": "2023-10-21T19:19:25.488919",
     "exception": false,
     "start_time": "2023-10-21T19:19:25.465697",
     "status": "completed"
    },
    "tags": []
   },
   "source": [
    "Então carregamos os dados de casos/mortes e vacinações para serem utilizados no Google Looker Studio."
   ]
  },
  {
   "cell_type": "code",
   "execution_count": 37,
   "id": "934a58dd",
   "metadata": {
    "execution": {
     "iopub.execute_input": "2023-10-21T19:19:25.538876Z",
     "iopub.status.busy": "2023-10-21T19:19:25.537845Z",
     "iopub.status.idle": "2023-10-21T19:19:25.746432Z",
     "shell.execute_reply": "2023-10-21T19:19:25.745212Z"
    },
    "papermill": {
     "duration": 0.236702,
     "end_time": "2023-10-21T19:19:25.749346",
     "exception": false,
     "start_time": "2023-10-21T19:19:25.512644",
     "status": "completed"
    },
    "tags": []
   },
   "outputs": [],
   "source": [
    "cases.to_csv('../working/covid-cases.csv', sep=',', index=False)\n",
    "vaccines.to_csv('../working/covid-vaccines.csv', sep=',', index=False)"
   ]
  },
  {
   "cell_type": "markdown",
   "id": "01717c1c",
   "metadata": {
    "papermill": {
     "duration": 0.023202,
     "end_time": "2023-10-21T19:19:25.796743",
     "exception": false,
     "start_time": "2023-10-21T19:19:25.773541",
     "status": "completed"
    },
    "tags": []
   },
   "source": [
    "# 3. Dashboard\n",
    "\n",
    "Utilizando o Google Looker Studio, são carregadas as fontes de dados dos arquivos covid-cases.csv e covid-vaccines.csv. Em ambas são conferidos os campos de tipos de dados, usando funções como `PARSE_DATA('%Y-%m', month)` para criar um novo campo `month_parsed` que segue o formato `date` adequadamente.\n",
    "\n",
    "São adicionadas KPI's (*key performance indicators*) mostrando os casos e mortes diários, a média móvel de 7 dias e a tendência desses dados. Isto tudo é organizado usando uma lista suspensa com a coluna de datas por dia. Também é utilizado um mapa colorido preenchido para os dados de casos diários por cada estado do Brasil, que podem ser selecionados.\n",
    "\n",
    "Por último, são acrescentados gráficos de séries temporais dos casos diários com média móvel, das mortes diárias com sua média móvel e também da população do Brasil. Eles são destacados a nível de relatório, e não de página, para não serem alterados pelo seletor temporal de data.\n",
    "\n",
    "<img src='https://github.com/mateus-miguel/projeto-dashboard-covid/blob/main/img/dashboard_covid_population.png?raw=true'/>"
   ]
  }
 ],
 "metadata": {
  "kernelspec": {
   "display_name": "Python 3",
   "language": "python",
   "name": "python3"
  },
  "language_info": {
   "codemirror_mode": {
    "name": "ipython",
    "version": 3
   },
   "file_extension": ".py",
   "mimetype": "text/x-python",
   "name": "python",
   "nbconvert_exporter": "python",
   "pygments_lexer": "ipython3",
   "version": "3.10.12"
  },
  "papermill": {
   "default_parameters": {},
   "duration": 16.61269,
   "end_time": "2023-10-21T19:19:26.442386",
   "environment_variables": {},
   "exception": null,
   "input_path": "__notebook__.ipynb",
   "output_path": "__notebook__.ipynb",
   "parameters": {},
   "start_time": "2023-10-21T19:19:09.829696",
   "version": "2.4.0"
  }
 },
 "nbformat": 4,
 "nbformat_minor": 5
}
